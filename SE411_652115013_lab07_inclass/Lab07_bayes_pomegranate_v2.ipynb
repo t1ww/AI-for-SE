{
 "cells": [
  {
   "cell_type": "code",
   "execution_count": 6,
   "metadata": {},
   "outputs": [
    {
     "ename": "OSError",
     "evalue": "[WinError 127] The specified procedure could not be found. Error loading \"c:\\Users\\Koi\\anaconda3\\envs\\SE411_2024\\Lib\\site-packages\\torch\\lib\\shm.dll\" or one of its dependencies.",
     "output_type": "error",
     "traceback": [
      "\u001b[1;31m---------------------------------------------------------------------------\u001b[0m",
      "\u001b[1;31mOSError\u001b[0m                                   Traceback (most recent call last)",
      "Cell \u001b[1;32mIn[6], line 1\u001b[0m\n\u001b[1;32m----> 1\u001b[0m \u001b[38;5;28;01mfrom\u001b[39;00m \u001b[38;5;21;01mpomegranate\u001b[39;00m\u001b[38;5;21;01m.\u001b[39;00m\u001b[38;5;21;01mdistributions\u001b[39;00m \u001b[38;5;28;01mimport\u001b[39;00m Categorical\n\u001b[0;32m      2\u001b[0m \u001b[38;5;28;01mfrom\u001b[39;00m \u001b[38;5;21;01mpomegranate\u001b[39;00m\u001b[38;5;21;01m.\u001b[39;00m\u001b[38;5;21;01mdistributions\u001b[39;00m \u001b[38;5;28;01mimport\u001b[39;00m ConditionalCategorical\n\u001b[0;32m      3\u001b[0m \u001b[38;5;28;01mfrom\u001b[39;00m \u001b[38;5;21;01mpomegranate\u001b[39;00m\u001b[38;5;21;01m.\u001b[39;00m\u001b[38;5;21;01mbayesian_network\u001b[39;00m \u001b[38;5;28;01mimport\u001b[39;00m \u001b[38;5;241m*\u001b[39m\n",
      "File \u001b[1;32mc:\\Users\\Koi\\anaconda3\\envs\\SE411_2024\\Lib\\site-packages\\pomegranate\\distributions\\__init__.py:1\u001b[0m\n\u001b[1;32m----> 1\u001b[0m \u001b[38;5;28;01mfrom\u001b[39;00m \u001b[38;5;21;01m.\u001b[39;00m\u001b[38;5;21;01mbernoulli\u001b[39;00m \u001b[38;5;28;01mimport\u001b[39;00m Bernoulli\n\u001b[0;32m      2\u001b[0m \u001b[38;5;28;01mfrom\u001b[39;00m \u001b[38;5;21;01m.\u001b[39;00m\u001b[38;5;21;01mcategorical\u001b[39;00m \u001b[38;5;28;01mimport\u001b[39;00m Categorical\n\u001b[0;32m      3\u001b[0m \u001b[38;5;28;01mfrom\u001b[39;00m \u001b[38;5;21;01m.\u001b[39;00m\u001b[38;5;21;01mconditional_categorical\u001b[39;00m \u001b[38;5;28;01mimport\u001b[39;00m ConditionalCategorical\n",
      "File \u001b[1;32mc:\\Users\\Koi\\anaconda3\\envs\\SE411_2024\\Lib\\site-packages\\pomegranate\\distributions\\bernoulli.py:4\u001b[0m\n\u001b[0;32m      1\u001b[0m \u001b[38;5;66;03m# bernoulli.py\u001b[39;00m\n\u001b[0;32m      2\u001b[0m \u001b[38;5;66;03m# Contact: Jacob Schreiber <jmschreiber91@gmail.com>\u001b[39;00m\n\u001b[1;32m----> 4\u001b[0m \u001b[38;5;28;01mimport\u001b[39;00m \u001b[38;5;21;01mtorch\u001b[39;00m\n\u001b[0;32m      6\u001b[0m \u001b[38;5;28;01mfrom\u001b[39;00m \u001b[38;5;21;01m.\u001b[39;00m\u001b[38;5;21;01m.\u001b[39;00m\u001b[38;5;21;01m_utils\u001b[39;00m \u001b[38;5;28;01mimport\u001b[39;00m _cast_as_tensor\n\u001b[0;32m      7\u001b[0m \u001b[38;5;28;01mfrom\u001b[39;00m \u001b[38;5;21;01m.\u001b[39;00m\u001b[38;5;21;01m.\u001b[39;00m\u001b[38;5;21;01m_utils\u001b[39;00m \u001b[38;5;28;01mimport\u001b[39;00m _cast_as_parameter\n",
      "File \u001b[1;32mc:\\Users\\Koi\\anaconda3\\envs\\SE411_2024\\Lib\\site-packages\\torch\\__init__.py:130\u001b[0m\n\u001b[0;32m    128\u001b[0m path_patched \u001b[38;5;241m=\u001b[39m \u001b[38;5;28;01mFalse\u001b[39;00m\n\u001b[0;32m    129\u001b[0m \u001b[38;5;28;01mfor\u001b[39;00m dll \u001b[38;5;129;01min\u001b[39;00m dlls:\n\u001b[1;32m--> 130\u001b[0m     is_loaded \u001b[38;5;241m=\u001b[39m \u001b[38;5;28;01mFalse\u001b[39;00m\n\u001b[0;32m    131\u001b[0m     \u001b[38;5;28;01mif\u001b[39;00m with_load_library_flags:\n\u001b[0;32m    132\u001b[0m         res \u001b[38;5;241m=\u001b[39m kernel32\u001b[38;5;241m.\u001b[39mLoadLibraryExW(dll, \u001b[38;5;28;01mNone\u001b[39;00m, \u001b[38;5;241m0x00001100\u001b[39m)\n",
      "\u001b[1;31mOSError\u001b[0m: [WinError 127] The specified procedure could not be found. Error loading \"c:\\Users\\Koi\\anaconda3\\envs\\SE411_2024\\Lib\\site-packages\\torch\\lib\\shm.dll\" or one of its dependencies."
     ]
    }
   ],
   "source": [
    "from pomegranate.distributions import Categorical\n",
    "from pomegranate.distributions import ConditionalCategorical\n",
    "from pomegranate.bayesian_network import *\n",
    "import torch"
   ]
  },
  {
   "attachments": {},
   "cell_type": "markdown",
   "metadata": {},
   "source": [
    "## Task 1: Diseases\n"
   ]
  },
  {
   "cell_type": "code",
   "execution_count": 3,
   "metadata": {},
   "outputs": [],
   "source": [
    "d1 = Categorical([[0.99, 0.01]])\n",
    "# 0 = diseased\n",
    "# 1 = not diseased\n",
    "\n",
    "d2 = ConditionalCategorical([[[0.95, 0.05], [0.03, 0.97]]])\n",
    "# 0 = test+\n",
    "# 1 = test-\n",
    "\n",
    "\n",
    "model = BayesianNetwork()\n",
    "model.add_distributions([d1, d2])\n",
    "model.add_edge(d1, d2)"
   ]
  },
  {
   "cell_type": "code",
   "execution_count": 6,
   "metadata": {},
   "outputs": [
    {
     "data": {
      "text/plain": [
       "(Parameter containing:\n",
       " tensor([[0.9900, 0.0100]]),\n",
       " Parameter containing:\n",
       " tensor([[0.9500, 0.0500],\n",
       "         [0.0300, 0.9700]]))"
      ]
     },
     "execution_count": 6,
     "metadata": {},
     "output_type": "execute_result"
    }
   ],
   "source": [
    "model.distributions[0].probs, model.distributions[1].probs[0]"
   ]
  },
  {
   "cell_type": "code",
   "execution_count": 7,
   "metadata": {},
   "outputs": [
    {
     "name": "stdout",
     "output_type": "stream",
     "text": [
      "Diseased and\n",
      "Test+ = 0.949999988079071\n",
      "Test- = 0.05000000074505806\n"
     ]
    },
    {
     "name": "stderr",
     "output_type": "stream",
     "text": [
      "c:\\Users\\Koi\\anaconda3\\envs\\SE411_3rd_310\\lib\\site-packages\\torch\\masked\\maskedtensor\\core.py:156: UserWarning: The PyTorch API of MaskedTensors is in prototype stage and will change in the near future. Please open a Github issue for features requests and see our documentation on the torch.masked module for further information about the project.\n",
      "  warnings.warn((\"The PyTorch API of MaskedTensors is in prototype stage \"\n"
     ]
    }
   ],
   "source": [
    "X = torch.tensor([[0,-1]])\n",
    "predict = model.predict_proba(torch.masked.MaskedTensor(X, mask=(X != -1)))\n",
    "print(\"Diseased and\")\n",
    "print(f\"Test+ = {predict[1][0][0]}\")\n",
    "print(f\"Test- = {predict[1][0][1]}\")"
   ]
  },
  {
   "cell_type": "code",
   "execution_count": 8,
   "metadata": {},
   "outputs": [
    {
     "name": "stdout",
     "output_type": "stream",
     "text": [
      "Diseased and\n",
      "Test+ = 0.029999999329447746\n",
      "Test- = 0.9700000286102295\n"
     ]
    }
   ],
   "source": [
    "X = torch.tensor([[1,-1]])\n",
    "predict = model.predict_proba(torch.masked.MaskedTensor(X, mask=(X != -1)))\n",
    "print(\"Diseased and\")\n",
    "print(f\"Test+ = {predict[1][0][0]}\")\n",
    "print(f\"Test- = {predict[1][0][1]}\")"
   ]
  },
  {
   "attachments": {},
   "cell_type": "markdown",
   "metadata": {},
   "source": [
    "# Task 2: Raining and Wet\n"
   ]
  },
  {
   "attachments": {
    "image.png": {
     "image/png": "[encoded data removed]"
    }
   },
   "cell_type": "markdown",
   "metadata": {},
   "source": [
    "![image.png](attachment:image.png)"
   ]
  },
  {
   "cell_type": "code",
   "execution_count": 6,
   "metadata": {},
   "outputs": [],
   "source": [
    "p1 = Categorical([[0.3, 0.7]]) #2d array\n",
    "# 0 = raining\n",
    "# 1 = not raining\n",
    "\n",
    "p2 = Categorical([[0.4, 0.6]]) #2d array\n",
    "# 0 = sprinklers\n",
    "# 1 = no sprinklers\n",
    "\n",
    "p3 = ConditionalCategorical([[[[0.9, 0.1], [0.7, 0.3]], \n",
    "                              [[0.8, 0.2], [0.1, 0.9]]]]) #3d array\n",
    "# 0 = wet\n",
    "# 1 = not wet\n",
    "# indices\n",
    "# 0,0 = raining & sprinklers\n",
    "# ...\n",
    "\n",
    "model2 = BayesianNetwork()\n",
    "model2.add_distributions([p1, p2, p3])\n",
    "model2.add_edges([(p1, p3), (p2, p3)])"
   ]
  },
  {
   "cell_type": "code",
   "execution_count": 11,
   "metadata": {},
   "outputs": [
    {
     "data": {
      "text/plain": [
       "(Parameter containing:\n",
       " tensor([[0.3000, 0.7000]]),\n",
       " Parameter containing:\n",
       " tensor([[0.4000, 0.6000]]),\n",
       " Parameter containing:\n",
       " tensor([[[0.9000, 0.1000],\n",
       "          [0.7000, 0.3000]],\n",
       " \n",
       "         [[0.8000, 0.2000],\n",
       "          [0.1000, 0.9000]]]))"
      ]
     },
     "execution_count": 11,
     "metadata": {},
     "output_type": "execute_result"
    }
   ],
   "source": [
    "model2.distributions[0].probs, model2.distributions[1].probs, *model2.distributions[2].probs\n",
    "\n",
    "# model2.distributions[0].probs - p1 raining\n",
    "# model2.distributions[1].probs - p2 sprinklers\n",
    "# *model2.distributions[2].probs or model2.distributions[2].probs[0] - p3 wet \n",
    "\n"
   ]
  },
  {
   "cell_type": "code",
   "execution_count": 16,
   "metadata": {},
   "outputs": [
    {
     "name": "stdout",
     "output_type": "stream",
     "text": [
      "[tensor([[0.4680, 0.5320]]), tensor([[0.6640, 0.3360]]), tensor([[1., 0.]])]\n",
      "Wet and\n",
      "Rain = 0.46799999475479126\n",
      "No Rain = 0.5320000052452087\n",
      "Wet and\n",
      "Sprinklers = 0.6639999747276306\n",
      "No Sprinklers = 0.335999995470047\n"
     ]
    }
   ],
   "source": [
    "# torch.tensor([[-1, -1, 0]]) --> [unknown(raining), unknown(sprinkler), Wet]\n",
    "\n",
    "X = torch.tensor([[-1, -1, 0]])\n",
    "predict = model2.predict_proba(torch.masked.MaskedTensor(X, mask=(X != -1)))\n",
    "\n",
    "print(predict)\n",
    "\n",
    "print(\"Wet and\")\n",
    "print(f\"Rain = {predict[0][0][0]}\")\n",
    "print(f\"No Rain = {predict[0][0][1]}\")\n",
    "\n",
    "print(\"Wet and\")\n",
    "print(f\"Sprinklers = {predict[1][0][0]}\")\n",
    "print(f\"No Sprinklers = {predict[1][0][1]}\")\n",
    "\n"
   ]
  },
  {
   "cell_type": "code",
   "execution_count": 8,
   "metadata": {},
   "outputs": [
    {
     "name": "stdout",
     "output_type": "stream",
     "text": [
      "[tensor([[0., 1.]]), tensor([[0.8421, 0.1579]]), tensor([[1., 0.]])]\n",
      "Wet, Not raining and\n",
      "Sprinklers = 0.8421052694320679\n",
      "No Sprinklers = 0.15789474546909332\n"
     ]
    }
   ],
   "source": [
    "# torch.tensor([[1, -1, 0]]) --> [Not raining, unknown, Wet]\n",
    "\n",
    "X = torch.tensor([[1, -1, 0]])\n",
    "predict = model2.predict_proba(torch.masked.MaskedTensor(X, mask=(X != -1)))\n",
    "\n",
    "print(predict)\n",
    "\n",
    "print(\"Wet, Not raining and\")\n",
    "print(f\"Sprinklers = {predict[1][0][0]}\")\n",
    "print(f\"No Sprinklers = {predict[1][0][1]}\")"
   ]
  },
  {
   "attachments": {},
   "cell_type": "markdown",
   "metadata": {},
   "source": [
    "# Task 3: What the dog doin?"
   ]
  },
  {
   "attachments": {
    "image.png": {
     "image/png": "[encoded data removed]"
    }
   },
   "cell_type": "markdown",
   "metadata": {},
   "source": [
    "![image.png](attachment:image.png)"
   ]
  },
  {
   "cell_type": "code",
   "execution_count": 18,
   "metadata": {},
   "outputs": [],
   "source": [
    "x1 = Categorical([[0.2, 0.8]])  \n",
    "# [0] +r\n",
    "# [1] -r\n",
    "\n",
    "x2 = Categorical([[0.6, 0.4]])  \n",
    "# [0] +s\n",
    "# [1] -s\n",
    "\n",
    "x3 = ConditionalCategorical([[[0.3, 0.7], [0.4, 0.6]]])\n",
    "# P(x3|x1) \n",
    "# [0] +r -> +n -n\n",
    "# [1] -r -> +n -n\n",
    "\n",
    "\n",
    "x4 = ConditionalCategorical([[[[0.9, 0.1], [0.7, 0.3]], [[0.8, 0.2], [0.2, 0.8]]]])\n",
    "# P(x4|x1,x2)\n",
    "# +r & +s -s -> +g -g, -r & +s -s -> +g -g\n",
    "\n",
    "x5 = ConditionalCategorical([[[[0.9, 0.1], [0.4, 0.6]], [[0.5, 0.5], [0.3, 0.7]]]])\n",
    "# P(x5|x3,x4)\n",
    "# +n & +g -g -> +dw -dw, -n & +g -g -> +dw -dw\n",
    "\n",
    "model3 = BayesianNetwork()\n",
    "model3.add_distributions([x1, x2, x3, x4, x5])\n",
    "model3.add_edges([(x1, x3), (x1, x4), (x2, x4), (x3, x5), (x4, x5)])"
   ]
  },
  {
   "cell_type": "code",
   "execution_count": 19,
   "metadata": {},
   "outputs": [
    {
     "name": "stdout",
     "output_type": "stream",
     "text": [
      "[tensor([[1., 0.]]), tensor([[0.6000, 0.4000]]), tensor([[0.3000, 0.7000]]), tensor([[0.8200, 0.1800]]), tensor([[0.5678, 0.4322]])]\n",
      "Prob. dog is wet when it rains\n",
      "tensor(0.5678)\n"
     ]
    },
    {
     "name": "stderr",
     "output_type": "stream",
     "text": [
      "c:\\Users\\Koi\\anaconda3\\envs\\SE411_3_11\\Lib\\site-packages\\torch\\masked\\maskedtensor\\core.py:156: UserWarning: The PyTorch API of MaskedTensors is in prototype stage and will change in the near future. Please open a Github issue for features requests and see our documentation on the torch.masked module for further information about the project.\n",
      "  warnings.warn((\"The PyTorch API of MaskedTensors is in prototype stage \"\n"
     ]
    }
   ],
   "source": [
    "# torch.tensor([[0, -1, -1, -1, -1]]) --> [rain, unknown(sprinkler), unknown(neighbor) ,unknown(grasswet) ,unknown(dogwet)]\n",
    "\n",
    "X = torch.tensor([[0, -1, -1, -1, -1]])\n",
    "predict = model3.predict_proba(torch.masked.MaskedTensor(X, mask=(X != -1)))\n",
    "\n",
    "print(predict)\n",
    "\n",
    "print(\"Prob. dog is wet when it rains\")\n",
    "print(predict[4][0][0])"
   ]
  },
  {
   "cell_type": "code",
   "execution_count": 23,
   "metadata": {},
   "outputs": [
    {
     "name": "stdout",
     "output_type": "stream",
     "text": [
      "[tensor([[0.1579, 0.8421]]), tensor([[1., 0.]]), tensor([[1., 0.]]), tensor([[0.8158, 0.1842]]), tensor([[0.8079, 0.1921]])]\n",
      "Prob. dog is wet when neighbor walks the dog and sprinklers are on\n",
      "tensor(0.8079)\n"
     ]
    }
   ],
   "source": [
    "# torch.tensor([[-1, 0, 0, -1, -1]]) --> [unknown(rain), sprinkler, neighbor ,unknown(grasswet) ,unknown(dogwet)]\n",
    "X = torch.tensor([[-1, 0, 0, -1, -1]])\n",
    "\n",
    "predict = model3.predict_proba(torch.masked.MaskedTensor(X, mask=(X != -1)))\n",
    "\n",
    "print(predict)\n",
    "\n",
    "print(\"Prob. dog is wet when neighbor walks the dog and sprinklers are on\")\n",
    "print(predict[4][0][0])"
   ]
  }
 ],
 "metadata": {
  "kernelspec": {
   "display_name": "se_411",
   "language": "python",
   "name": "python3"
  },
  "language_info": {
   "codemirror_mode": {
    "name": "ipython",
    "version": 3
   },
   "file_extension": ".py",
   "mimetype": "text/x-python",
   "name": "python",
   "nbconvert_exporter": "python",
   "pygments_lexer": "ipython3",
   "version": "3.12.4"
  },
  "orig_nbformat": 4
 },
 "nbformat": 4,
 "nbformat_minor": 2
}
