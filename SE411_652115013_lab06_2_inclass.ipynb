{
 "cells": [
  {
   "cell_type": "markdown",
   "metadata": {},
   "source": [
    "# LAB06-2_first_order_logic"
   ]
  },
  {
   "cell_type": "markdown",
   "metadata": {},
   "source": [
    "**Objective:** Students will practice\n",
    "\n",
    "\n",
    "*   using 'knowledge base' and 'logical sentence' for AI agent\n",
    "\n",
    "*   using AIMA to code the logical sentence and create knowledge base\n",
    "\n",
    "*   to import AIMA 'utils' and 'logic' libraries for the implementation\n",
    "\n",
    "*   to learn about syntax creating 'Logical sentences' and knowledge base"
   ]
  },
  {
   "cell_type": "markdown",
   "metadata": {},
   "source": [
    "**Lab Instruction**\n",
    "\n",
    "---\n",
    "\n",
    "*   The **LAB06-2_first_order_logic** instruction and lab resources are shared in the Jupyter Notebook platform . The link for accessing the notebook is posted on MS Teams channel LAB. (**LAB06-2_first_order_logic**.ipynb) \n",
    "*   Student has to '**save a copy in Drive**'. After that you can edit the code in your own drive.\n",
    "*   There are **2 questions** according to the **LAB06-2_first_order_logic** sheet posted on the channel.\n",
    "*   The **LAB06-2_first_order_logic** is worth **20 points** in total.\n",
    "\n",
    "---\n",
    "\n",
    "**Assignment Submission:**\n",
    "Once you have done all assignment,\n",
    "*   Goto: File --> Download --> Download .ipynb\n",
    "*   Save the filename as **[your_student_ID]_inclass.ipynb** for the work that you finished in the class\n",
    "*   Save the filename as **[your_student_ID]_outclass.ipynb** for the work that you finished after the class\n",
    "*   Upload your code files to MS Team assignments. The submission later than the ‘due date’ will get 50% off your score. You cannot submit your work to the system at the close date.\n",
    ">*   **Be careful**: The uploaded time will be checked. If you replace the inclass file on the later upload, you score will be graded by the uploaded time.\n",
    "\n"
   ]
  },
  {
   "cell_type": "markdown",
   "metadata": {},
   "source": [
    "## Library\n",
    "\n",
    "First, To install AIMA using Git, follow installtion guide from https://github.com/aimacode/aima-python\n",
    "\n",
    "Then, save this file (**LAB06-2_first_order_logic**.ipynb) to aima-python folder."
   ]
  },
  {
   "cell_type": "code",
   "execution_count": 142,
   "metadata": {},
   "outputs": [
    {
     "name": "stdout",
     "output_type": "stream",
     "text": [
      "done import\n"
     ]
    }
   ],
   "source": [
    "from utils import *\n",
    "from logic import *\n",
    "\n",
    "print('done import')"
   ]
  },
  {
   "cell_type": "markdown",
   "metadata": {},
   "source": [
    "The 'notebook' library is imported to 'get' some code of the source library(e.g. logic.py) to show in this notebook."
   ]
  },
  {
   "cell_type": "markdown",
   "metadata": {
    "collapsed": true
   },
   "source": [
    "## Logical Sentences"
   ]
  },
  {
   "cell_type": "markdown",
   "metadata": {},
   "source": [
    "`Expr` is a class to define a mathematical expression.\n",
    "\n",
    "Function `Symbol` is in the `Expr` class.\n",
    "- Symbol can be used to define a 'proposition', a 'predicate', a 'function' and others expressions"
   ]
  },
  {
   "cell_type": "code",
   "execution_count": 143,
   "metadata": {},
   "outputs": [
    {
     "name": "stdout",
     "output_type": "stream",
     "text": [
      "x\n"
     ]
    }
   ],
   "source": [
    "Symbol('x')\n",
    "\n",
    "my_x = x\n",
    "\n",
    "print(my_x)\n"
   ]
  },
  {
   "cell_type": "markdown",
   "metadata": {},
   "source": [
    "Or we can define multiple symbols at the same time with the function `symbols`:"
   ]
  },
  {
   "cell_type": "code",
   "execution_count": 144,
   "metadata": {
    "collapsed": true
   },
   "outputs": [],
   "source": [
    "(x, y, P, Q, f) = symbols('x, y, P, Q, f')"
   ]
  },
  {
   "cell_type": "markdown",
   "metadata": {},
   "source": [
    "We can combine `Expr`s with the regular Python infix and prefix operators. Here's how we would form the logical sentence \"P and not Q\":"
   ]
  },
  {
   "cell_type": "code",
   "execution_count": 145,
   "metadata": {},
   "outputs": [
    {
     "data": {
      "text/plain": [
       "(P & ~Q)"
      ]
     },
     "execution_count": 145,
     "metadata": {},
     "output_type": "execute_result"
    }
   ],
   "source": [
    "P & ~Q"
   ]
  },
  {
   "cell_type": "code",
   "execution_count": 146,
   "metadata": {},
   "outputs": [
    {
     "name": "stdout",
     "output_type": "stream",
     "text": [
      "(P & ~Q)\n"
     ]
    }
   ],
   "source": [
    "my_var = P & ~Q\n",
    "\n",
    "print(my_var)"
   ]
  },
  {
   "cell_type": "markdown",
   "metadata": {},
   "source": [
    "This works because the `Expr` class overloads the `&` operator with this definition:\n",
    "\n",
    "```python\n",
    "def __and__(self, other): \n",
    "    return Expr('&',  self, other)```\n",
    "     \n",
    "and does similar overloads for the other operators. \n",
    "\n",
    "An `Expr` has two fields: \n",
    "1. `op` for the operator, which is always a string, and \n",
    "2. `args` for the arguments, which is a tuple of 0 or more expressions. \n",
    "\n",
    "\n",
    "By \"expression,\" I mean either an instance of `Expr`, or a number. Let's take a look at the fields for some `Expr` examples:"
   ]
  },
  {
   "cell_type": "code",
   "execution_count": 147,
   "metadata": {},
   "outputs": [
    {
     "data": {
      "text/plain": [
       "'&'"
      ]
     },
     "execution_count": 147,
     "metadata": {},
     "output_type": "execute_result"
    }
   ],
   "source": [
    "sentence = P & ~Q\n",
    "\n",
    "sentence.op"
   ]
  },
  {
   "cell_type": "code",
   "execution_count": 148,
   "metadata": {},
   "outputs": [
    {
     "data": {
      "text/plain": [
       "(P, ~Q)"
      ]
     },
     "execution_count": 148,
     "metadata": {},
     "output_type": "execute_result"
    }
   ],
   "source": [
    "sentence.args"
   ]
  },
  {
   "cell_type": "code",
   "execution_count": 149,
   "metadata": {},
   "outputs": [
    {
     "data": {
      "text/plain": [
       "'P'"
      ]
     },
     "execution_count": 149,
     "metadata": {},
     "output_type": "execute_result"
    }
   ],
   "source": [
    "P.op"
   ]
  },
  {
   "cell_type": "code",
   "execution_count": 150,
   "metadata": {},
   "outputs": [
    {
     "data": {
      "text/plain": [
       "()"
      ]
     },
     "execution_count": 150,
     "metadata": {},
     "output_type": "execute_result"
    }
   ],
   "source": [
    "P.args"
   ]
  },
  {
   "cell_type": "code",
   "execution_count": 151,
   "metadata": {},
   "outputs": [
    {
     "data": {
      "text/plain": [
       "'P'"
      ]
     },
     "execution_count": 151,
     "metadata": {},
     "output_type": "execute_result"
    }
   ],
   "source": [
    "Pxy = P(x, y)\n",
    "\n",
    "Pxy.op"
   ]
  },
  {
   "cell_type": "code",
   "execution_count": 152,
   "metadata": {},
   "outputs": [
    {
     "data": {
      "text/plain": [
       "(x, y)"
      ]
     },
     "execution_count": 152,
     "metadata": {},
     "output_type": "execute_result"
    }
   ],
   "source": [
    "Pxy.args"
   ]
  },
  {
   "cell_type": "markdown",
   "metadata": {},
   "source": [
    "It is important to note that the `Expr` class does not define the *logic* of Propositional Logic sentences; it just gives you a way to *represent* expressions. Think of an `Expr` as an [abstract syntax tree](https://en.wikipedia.org/wiki/Abstract_syntax_tree).  Each of the `args` in an `Expr` can be either a symbol, a number, or a nested `Expr`. We can nest these trees to any depth. Here is a deply nested `Expr`:"
   ]
  },
  {
   "cell_type": "code",
   "execution_count": 153,
   "metadata": {},
   "outputs": [
    {
     "data": {
      "text/plain": [
       "(((3 * f(x, y)) + (P(y) / 2)) + 1)"
      ]
     },
     "execution_count": 153,
     "metadata": {},
     "output_type": "execute_result"
    }
   ],
   "source": [
    "3 * f(x, y) + P(y) / 2 + 1"
   ]
  },
  {
   "cell_type": "markdown",
   "metadata": {},
   "source": [
    "## Operators for Constructing Logical Sentences\n",
    "\n",
    "Here is a table of the operators that can be used to form sentences. Note that we have a problem: we want to use Python operators to make sentences, so that our programs (and our interactive sessions like the one here) will show simple code. But Python does not allow implication arrows as operators, so for now we have to use a more verbose notation that Python does allow: `|'==>'|` instead of just `==>`. Alternately, you can always use the more verbose `Expr` constructor forms:\n",
    "\n",
    "| Operation                | Book | Python Infix Input | Python Output | Python `Expr` Input\n",
    "|--------------------------|----------------------|-------------------------|---|---|\n",
    "| Negation                 | &not; P      | `~P`                       | `~P` | `Expr('~', P)`\n",
    "| And                      | P &and; Q       | `P & Q`                     | `P & Q` | `Expr('&', P, Q)`\n",
    "| Or                       | P &or; Q | `P`<tt> &#124; </tt>`Q`| `P`<tt> &#124; </tt>`Q` | `Expr('`&#124;`', P, Q)`\n",
    "| Inequality (Xor)         | P &ne; Q     | `P ^ Q`                | `P ^ Q`  | `Expr('^', P, Q)`\n",
    "| Implication                  | P &rarr; Q    | `P` <tt>&#124;</tt>`'==>'`<tt>&#124;</tt> `Q`   | `P ==> Q` | `Expr('==>', P, Q)`\n",
    "| Reverse Implication      | Q &larr; P     | `Q` <tt>&#124;</tt>`'<=='`<tt>&#124;</tt> `P`  |`Q <== P` | `Expr('<==', Q, P)`\n",
    "| Equivalence            | P &harr; Q   | `P` <tt>&#124;</tt>`'<=>'`<tt>&#124;</tt> `Q`   |`P <=> Q` | `Expr('<=>', P, Q)`\n",
    "\n",
    "Here's an example of defining a sentence with an implication arrow:"
   ]
  },
  {
   "cell_type": "code",
   "execution_count": 154,
   "metadata": {},
   "outputs": [
    {
     "data": {
      "text/plain": [
       "(~(P & Q) ==> (~P | ~Q))"
      ]
     },
     "execution_count": 154,
     "metadata": {},
     "output_type": "execute_result"
    }
   ],
   "source": [
    "~(P & Q)  |'==>'|  (~P | ~Q)"
   ]
  },
  {
   "cell_type": "markdown",
   "metadata": {},
   "source": [
    "If the `|'==>'|` notation looks ugly to you, you can use the function `expr` instead:"
   ]
  },
  {
   "cell_type": "code",
   "execution_count": 155,
   "metadata": {},
   "outputs": [
    {
     "data": {
      "text/plain": [
       "(~(P & Q) ==> (~P | ~Q))"
      ]
     },
     "execution_count": 155,
     "metadata": {},
     "output_type": "execute_result"
    }
   ],
   "source": [
    "expr('~(P & Q)  ==>  (~P | ~Q)')"
   ]
  },
  {
   "cell_type": "markdown",
   "metadata": {},
   "source": [
    "## Question 1 (4 points)\n",
    "\n",
    "From this sentence, ~(P & Q)  |'==>'|  (~P | ~Q)\n",
    "\n",
    "List all the operators.\n",
    "\n",
    "Answer: \n",
    "\n",
    "`~ & | ==>`\n",
    "\n",
    "List all the arguments.\n",
    "\n",
    "Answer:\n",
    "\n",
    "```\n",
    "    1. P\n",
    "    2. Q\n",
    "    3. ~(P & Q)\n",
    "    4. ~P\n",
    "    5. ~Q\n",
    "    6. ~P | ~Q\n",
    "    7. ~P & ~Q ==> ~P | ~Q\n",
    "```"
   ]
  },
  {
   "cell_type": "markdown",
   "metadata": {},
   "source": [
    "## First-Order Logic Knowledge Bases: `FolKB`\n",
    "\n",
    "The class `FolKB` can be used to represent a knowledge base of First-order logic sentences. You would initialize and use it the same way as you would for `PropKB` except that the clauses are first-order definite clauses. We will see how to write such clauses to create a database and query them in the following sections."
   ]
  },
  {
   "cell_type": "markdown",
   "metadata": {},
   "source": [
    "## Criminal KB\n",
    "In this section we create a `FolKB` based on the following paragraph.<br/>\n",
    "\n",
    "\n",
    "KNOWLEDGE SENTENCES:\n",
    "\n",
    "<em>1. The law says that it is a crime for an American to sell weapons to hostile nations. <br/>\n",
    "2.The country, Nono, an enemy of America, has some missiles, and all of its missiles were sold to it by Colonel West, who is American.</em><br/>\n",
    "\n",
    "\n",
    "The first step is to extract the facts and convert them into first-order definite clauses.<br/>\n",
    "Extracting the facts from data alone is a challenging task. <br/>\n",
    "Fortunately, we have a small paragraph and can do extraction and conversion manually. We'll store the clauses in list aptly named `clauses`."
   ]
  },
  {
   "cell_type": "code",
   "execution_count": 156,
   "metadata": {
    "collapsed": true
   },
   "outputs": [],
   "source": [
    "clauses = []"
   ]
  },
  {
   "cell_type": "markdown",
   "metadata": {},
   "source": [
    "<em>“... it is a crime for an American to sell weapons to hostile nations”</em><br/>\n",
    "\n",
    "The keywords to look for here are 'crime', 'American', 'sell', 'weapon' and 'hostile'. We use predicate symbols to make meaning of them.\n",
    "\n",
    "* `Criminal(x)`: `x` is a criminal\n",
    "* `American(x)`: `x` is an American\n",
    "* `Sells(x ,y, z)`: `x` sells `y` to `z`\n",
    "* `Weapon(x)`: `x` is a weapon\n",
    "* `Hostile(x)`: `x` is a hostile nation\n",
    "\n",
    "Let us now combine them with appropriate variable naming to depict the meaning of the sentence. The criminal `x` is also the American `x` who sells weapon `y` to `z`, which is a hostile nation.\n",
    "\n",
    "$\\text{American}(x) \\land \\text{Weapon}(y) \\land \\text{Sells}(x, y, z) \\land \\text{Hostile}(z) \\implies \\text{Criminal} (x)$"
   ]
  },
  {
   "cell_type": "code",
   "execution_count": 157,
   "metadata": {
    "collapsed": true
   },
   "outputs": [],
   "source": [
    "clauses.append(expr(\"(American(x) & Weapon(y) & Sells(x, y, z) & Hostile(z)) ==> Criminal(x)\"))"
   ]
  },
  {
   "cell_type": "markdown",
   "metadata": {},
   "source": [
    "<em>\"The country Nono, an enemy of America\"</em><br/>\n",
    "We now know that Nono is an enemy of America. We represent these nations using the constant symbols `Nono` and `America`. the enemy relation is show using the predicate symbol `Enemy`.\n",
    "\n",
    "* `Enemy('Nono','America')`: Nono is an enemy of America\n",
    "\n",
    "$\\text{Enemy}(\\text{Nono}, \\text{America})$"
   ]
  },
  {
   "cell_type": "code",
   "execution_count": 158,
   "metadata": {
    "collapsed": true
   },
   "outputs": [],
   "source": [
    "clauses.append(expr(\"Enemy(Nono, America)\"))"
   ]
  },
  {
   "cell_type": "markdown",
   "metadata": {},
   "source": [
    "<em>\"Nono ... has some missiles\"</em><br/>\n",
    "This states the existence of some missile which is owned by Nono. $\\exists x \\text{Owns}(\\text{Nono}, x) \\land \\text{Missile}(x)$. We invoke existential instantiation to introduce a new constant `M1` which is the missile owned by Nono.\n",
    "\n",
    "$\\text{Owns}(\\text{Nono}, \\text{M1}), \\text{Missile}(\\text{M1})$"
   ]
  },
  {
   "cell_type": "code",
   "execution_count": 159,
   "metadata": {
    "collapsed": true
   },
   "outputs": [],
   "source": [
    "clauses.append(expr(\"Owns(Nono, M1)\"))\n",
    "clauses.append(expr(\"Missile(M1)\"))"
   ]
  },
  {
   "cell_type": "markdown",
   "metadata": {
    "collapsed": true
   },
   "source": [
    "<em>\"All of its missiles were sold to it by Colonel West\"</em><br/>\n",
    "If Nono owns something and it classifies as a missile, then it was sold to Nono by West.\n",
    "\n",
    "$\\text{Missile}(x) \\land \\text{Owns}(\\text{Nono}, x) \\implies \\text{Sells}(\\text{West}, x, \\text{Nono})$"
   ]
  },
  {
   "cell_type": "code",
   "execution_count": 160,
   "metadata": {
    "collapsed": true
   },
   "outputs": [],
   "source": [
    "clauses.append(expr(\"(Missile(x) & Owns(Nono, x)) ==> Sells(West, x, Nono)\"))"
   ]
  },
  {
   "cell_type": "markdown",
   "metadata": {},
   "source": [
    "<em>\"West, who is American\"</em><br/>\n",
    "West is an American.\n",
    "\n",
    "$\\text{American}(\\text{West})$"
   ]
  },
  {
   "cell_type": "code",
   "execution_count": 161,
   "metadata": {
    "collapsed": true
   },
   "outputs": [],
   "source": [
    "clauses.append(expr(\"American(West)\"))"
   ]
  },
  {
   "cell_type": "markdown",
   "metadata": {},
   "source": [
    "We also know, from our understanding of language, that missiles are weapons and that an enemy of America counts as “hostile”.\n",
    "\n",
    "$\\text{Missile}(x) \\implies \\text{Weapon}(x), \\text{Enemy}(x, \\text{America}) \\implies \\text{Hostile}(x)$"
   ]
  },
  {
   "cell_type": "code",
   "execution_count": 162,
   "metadata": {
    "collapsed": true
   },
   "outputs": [],
   "source": [
    "clauses.append(expr(\"Missile(x) ==> Weapon(x)\"))\n",
    "clauses.append(expr(\"Enemy(x, America) ==> Hostile(x)\"))"
   ]
  },
  {
   "cell_type": "markdown",
   "metadata": {},
   "source": [
    "Now that we have converted the information into first-order definite clauses we can create our first-order logic knowledge base."
   ]
  },
  {
   "cell_type": "code",
   "execution_count": 163,
   "metadata": {
    "collapsed": true
   },
   "outputs": [],
   "source": [
    "crime_kb = FolKB(clauses)"
   ]
  },
  {
   "cell_type": "markdown",
   "metadata": {},
   "source": [
    "The `subst` helper function substitutes variables with given values in first-order logic statements.\n",
    "This will be useful in later algorithms.\n",
    "It's implementation is quite simple and self-explanatory."
   ]
  },
  {
   "cell_type": "markdown",
   "metadata": {},
   "source": [
    "Here's an example of how `subst` can be used."
   ]
  },
  {
   "cell_type": "code",
   "execution_count": 164,
   "metadata": {},
   "outputs": [
    {
     "data": {
      "text/plain": [
       "Owns(Nono, M1)"
      ]
     },
     "execution_count": 164,
     "metadata": {},
     "output_type": "execute_result"
    }
   ],
   "source": [
    "subst({x: expr('Nono'), y: expr('M1')}, expr('Owns(x, y)'))"
   ]
  },
  {
   "cell_type": "markdown",
   "metadata": {},
   "source": [
    "### Forward Chaining Algorithm\n",
    "We consider the simple forward-chaining algorithm presented in <em>Figure 9.3</em>. We look at each rule in the knowledge base and see if the premises can be satisfied. This is done by finding a substitution which unifies each of the premise with a clause in the `KB`. If we are able to unify the premises, the conclusion (with the corresponding substitution) is added to the `KB`. This inferencing process is repeated until either the query can be answered or till no new sentences can be added. We test if the newly added clause unifies with the query in which case the substitution yielded by `unify` is an answer to the query. If we run out of sentences to infer, this means the query was a failure.\n",
    "\n",
    "The function `fol_fc_ask` is a generator which yields all substitutions which validate the query."
   ]
  },
  {
   "cell_type": "markdown",
   "metadata": {},
   "source": [
    "Let's find out all the hostile nations. Note that we only told the `KB` that Nono was an enemy of America, not that it was hostile."
   ]
  },
  {
   "cell_type": "code",
   "execution_count": 165,
   "metadata": {},
   "outputs": [
    {
     "name": "stdout",
     "output_type": "stream",
     "text": [
      "[{x: West}]\n"
     ]
    }
   ],
   "source": [
    "answer = fol_fc_ask(crime_kb, expr('Criminal(x)'))\n",
    "print(list(answer))"
   ]
  },
  {
   "cell_type": "markdown",
   "metadata": {},
   "source": [
    "The generator returned a single substitution which says that Nono is a hostile nation. See how after adding another enemy nation the generator returns two substitutions."
   ]
  },
  {
   "cell_type": "markdown",
   "metadata": {},
   "source": [
    "Function `tell(self, sentence)` : When you want to add a sentence to the KB, you use the `tell` method. This method takes a sentence, converts it to its CNF, extracts all the clauses, and adds all these clauses to the `clauses` field. So, you need not worry about `tell`ing only clauses to the knowledge base. You can `tell` the knowledge base a sentence in any form that you wish; converting it to CNF and adding the resulting clauses will be handled by the `tell` method."
   ]
  },
  {
   "cell_type": "code",
   "execution_count": 166,
   "metadata": {},
   "outputs": [
    {
     "name": "stdout",
     "output_type": "stream",
     "text": [
      "[{x: Nono}, {x: Jaja}]\n"
     ]
    }
   ],
   "source": [
    "crime_kb.tell(expr('Enemy(Jaja, America)'))\n",
    "answer = fol_fc_ask(crime_kb, expr('Hostile(x)'))\n",
    "print(list(answer))"
   ]
  },
  {
   "cell_type": "code",
   "execution_count": 167,
   "metadata": {},
   "outputs": [
    {
     "name": "stdout",
     "output_type": "stream",
     "text": [
      "[{x: Nono}]\n"
     ]
    }
   ],
   "source": [
    "answer = fol_fc_ask(crime_kb, expr('Owns(x, M1)'))\n",
    "print(list(answer))"
   ]
  },
  {
   "cell_type": "markdown",
   "metadata": {},
   "source": [
    "## Question 2 (16 points) \n",
    "\n",
    "Write Propositional sentence to TELL the 'crime_kb' that \n",
    "\n",
    "\n",
    "    \n",
    "1. Laura is not American\n",
    "    \n",
    "2. JubJang is an American \n",
    "\n",
    "3. Colonel NorthWest is an American\n",
    "\n",
    "4. Laura and Jaja have weapons such as bomb and missile.\n",
    "    \n",
    "5. JubJang buy missile from Laura\n",
    "\n",
    "6. Colonel NorthWest sell bomb to Jaja\n",
    "\n",
    "    \n",
    "\n",
    "\n",
    "\n",
    "Based on the logical sentence, ASK the 'crime_kb':\n",
    "\n",
    "$\\text{American}(x) \\land \\text{Weapon}(y) \\land \\text{Sells}(x, y, z) \\land \\text{Hostile}(z) \\implies \\text{Criminal} (x)$\n",
    "\n",
    "1. Who are Americans? \n",
    "2. Who are Hostiles? \n",
    "3. Who own weapons?\n",
    "4. Who sell weapons?\n",
    "5. Who are the Criminals?\n",
    "\n",
    "Output should be shown as follows:\n",
    "\n",
    "* American:  [{x: West}, {x: JubJang}, {x: NorthWest}]\n",
    "* Hostile:  [{x: Nono}, {x: JaJa}, {x: Laura}]\n",
    "* Own weapon:  [{x: Nono, y: M1}, {x: Laura, y: M1}, {x: Laura, y: B1}, {x: JaJa, y: M1}, {x: JaJa, y: B1}]\n",
    "* Sell weapon:  [{x: West, y: M1, z: Nono}, {x: Laura, y: M1, z: JubJang}, {x: NorthWest, y: B1, z: JaJa}]\n",
    "* Criminal:  [{x: West}, {x: NorthWest}]\n",
    "\n",
    "\n",
    "Reconsider if the result of ASK are correct by the logical sentence."
   ]
  },
  {
   "cell_type": "code",
   "execution_count": 169,
   "metadata": {},
   "outputs": [
    {
     "name": "stdout",
     "output_type": "stream",
     "text": [
      "[{x: West}, {x: JubJang}, {x: NorthWest}, {x: JubJang}, {x: NorthWest}]\n",
      "[{v_25289: Nono, x: Nono}, {v_25289: Laura, x: Laura}, {v_25289: Jaja, x: Jaja}, {v_25289: Laura, x: Laura}]\n",
      "[{x: Laura}, {x: Jaja}, {x: Laura}, {x: Jaja}]\n",
      "[{x: NorthWest, y: Jaja}, {x: NorthWest, y: Jaja}]\n",
      "[{v_25344: West, x: West, v_25355: M1, v_25345: M1, v_25362: M1, v_25346: Nono, v_25374: Nono}, {v_25344: NorthWest, x: NorthWest, v_25345: Bomb, v_25346: Jaja, v_25667: Jaja}, {v_25344: NorthWest, x: NorthWest, v_25345: Bomb, v_25346: Jaja, v_25694: Jaja}, {v_25344: NorthWest, x: NorthWest, v_25345: Bomb, v_25346: Jaja, v_25742: Jaja}, {v_25344: NorthWest, x: NorthWest, v_25345: Bomb, v_25346: Jaja, v_25769: Jaja}, {v_25344: NorthWest, x: NorthWest, v_25345: Bomb, v_25346: Jaja, v_25934: Jaja}, {v_25344: NorthWest, x: NorthWest, v_25345: Bomb, v_25346: Jaja, v_25961: Jaja}, {v_25344: NorthWest, x: NorthWest, v_25345: Bomb, v_25346: Jaja, v_26009: Jaja}, {v_25344: NorthWest, x: NorthWest, v_25345: Bomb, v_25346: Jaja, v_26036: Jaja}, {v_26070: West, x: West, v_26081: M1, v_26071: M1, v_26088: M1, v_26072: Nono, v_26100: Nono}, {v_26070: NorthWest, x: NorthWest, v_26071: Bomb, v_26072: Jaja, v_26393: Jaja}, {v_26070: NorthWest, x: NorthWest, v_26071: Bomb, v_26072: Jaja, v_26420: Jaja}, {v_26070: NorthWest, x: NorthWest, v_26071: Bomb, v_26072: Jaja, v_26468: Jaja}, {v_26070: NorthWest, x: NorthWest, v_26071: Bomb, v_26072: Jaja, v_26495: Jaja}, {v_26070: NorthWest, x: NorthWest, v_26071: Bomb, v_26072: Jaja, v_26660: Jaja}, {v_26070: NorthWest, x: NorthWest, v_26071: Bomb, v_26072: Jaja, v_26687: Jaja}, {v_26070: NorthWest, x: NorthWest, v_26071: Bomb, v_26072: Jaja, v_26735: Jaja}, {v_26070: NorthWest, x: NorthWest, v_26071: Bomb, v_26072: Jaja, v_26762: Jaja}, {v_26793: West, x: West, v_26804: M1, v_26794: M1, v_26811: M1, v_26795: Nono, v_26823: Nono}, {v_26793: NorthWest, x: NorthWest, v_26794: Bomb, v_26795: Jaja, v_27116: Jaja}, {v_26793: NorthWest, x: NorthWest, v_26794: Bomb, v_26795: Jaja, v_27143: Jaja}, {v_26793: NorthWest, x: NorthWest, v_26794: Bomb, v_26795: Jaja, v_27191: Jaja}, {v_26793: NorthWest, x: NorthWest, v_26794: Bomb, v_26795: Jaja, v_27218: Jaja}, {v_26793: NorthWest, x: NorthWest, v_26794: Bomb, v_26795: Jaja, v_27383: Jaja}, {v_26793: NorthWest, x: NorthWest, v_26794: Bomb, v_26795: Jaja, v_27410: Jaja}, {v_26793: NorthWest, x: NorthWest, v_26794: Bomb, v_26795: Jaja, v_27458: Jaja}, {v_26793: NorthWest, x: NorthWest, v_26794: Bomb, v_26795: Jaja, v_27485: Jaja}]\n"
     ]
    }
   ],
   "source": [
    "# Initialize an empty list of clauses\n",
    "#clauses = [] # reset\n",
    "#crime_kb = None # reset\n",
    "\n",
    "# set logical sentence\n",
    "clauses.append(expr(\"(American(x) & Weapon(y) & Sells(x, y, z) & Hostile(z)) ==> Criminal(x)\"))\n",
    "clauses.append(expr(\"Weapon(Bomb)\"))\n",
    "clauses.append(expr(\"Weapon(Missile)\"))\n",
    "\n",
    "\n",
    "# 1. Laura is not American\n",
    "clauses.append(expr(\"Enemy(Laura, America)\"))\n",
    "\n",
    "# 2. JubJang is an American\n",
    "clauses.append(expr(\"American(JubJang)\"))\n",
    "\n",
    "# 3. Colonel NorthWest is an American\n",
    "clauses.append(expr(\"American(NorthWest)\"))\n",
    "\n",
    "# 4. Laura and Jaja have weapons such as bomb and missile\n",
    "clauses.append(expr(\"Owns(Laura, Bomb)\"))\n",
    "clauses.append(expr(\"Owns(Laura, Misslie)\"))\n",
    "clauses.append(expr(\"Owns(Jaja, Bomb)\"))\n",
    "clauses.append(expr(\"Owns(Jaja, Missile)\"))\n",
    "\n",
    "# 5. JubJang buys a missile from Laura\n",
    "clauses.append(expr(\"Buys(JubJang, Missile, Laura)\"))\n",
    "\n",
    "# 6. Colonel NorthWest sells a bomb to Jaja\n",
    "clauses.append(expr(\"Sells(NorthWest, Bomb, Jaja)\"))\n",
    "\n",
    "# Initialize the knowledge base with the clauses\n",
    "crime_kb = FolKB(clauses)\n",
    "clauses.append(expr(\"Enemy(Jaja, America)\"))\n",
    "\n",
    "# getting answers\n",
    "# 1. who are americans\n",
    "print(list(fol_bc_ask(crime_kb, expr('American(x)'))))\n",
    "print(list(fol_bc_ask(crime_kb, expr('Hostile(x)'))))\n",
    "print(list(fol_bc_ask(crime_kb, expr('Owns(x, Bomb)'))))\n",
    "print(list(fol_bc_ask(crime_kb, expr('Sells(x, Bomb, y)'))))\n",
    "print(list(fol_bc_ask(crime_kb, expr('Criminal(x)'))))\n",
    "\n"
   ]
  }
 ],
 "metadata": {
  "kernelspec": {
   "display_name": "Python 3.10.5 64-bit",
   "language": "python",
   "name": "python3"
  },
  "language_info": {
   "codemirror_mode": {
    "name": "ipython",
    "version": 3
   },
   "file_extension": ".py",
   "mimetype": "text/x-python",
   "name": "python",
   "nbconvert_exporter": "python",
   "pygments_lexer": "ipython3",
   "version": "3.11.9"
  },
  "orig_nbformat": 4,
  "vscode": {
   "interpreter": {
    "hash": "a112cf93d8f8b7f25df06304c537ccd6f9ecaaff9d566006e9ec5666fd6e31de"
   }
  }
 },
 "nbformat": 4,
 "nbformat_minor": 2
}
