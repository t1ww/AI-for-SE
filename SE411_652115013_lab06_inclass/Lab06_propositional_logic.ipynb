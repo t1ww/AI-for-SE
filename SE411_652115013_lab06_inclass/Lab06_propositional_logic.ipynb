{
  "cells": [
    {
      "cell_type": "markdown",
      "metadata": {
        "id": "PW5dCGkX-fCL"
      },
      "source": [
        "# LAB06-1_Propositional_Logic"
      ]
    },
    {
      "cell_type": "markdown",
      "metadata": {
        "id": "SK6Xg27u-rdr"
      },
      "source": [
        "**Objective:** Students will practice\n",
        "\n",
        "*   solving problems using propositional logic\n"
      ]
    },
    {
      "cell_type": "markdown",
      "metadata": {
        "id": "0LzOiEcY-suK"
      },
      "source": [
        "**Lab Instruction**\n",
        "\n",
        "---\n",
        "\n",
        "*   The **LAB06-1_propositional_logic** instruction and lab resources are shared in the MSTeam platform . \n",
        "*   There are **1 assignment and 4 questions** according to the **LAB06** sheet posted on the channel.\n",
        "*   The **LAB06-1_propositional_logic** is worth **20 points** in total.\n",
        "\n",
        "---\n",
        "\n",
        "**Assignment Submission:**\n",
        "Once you have done all assignment, ,\n",
        "*   Goto: File --> Download --> Download .ipynb\n",
        "*   Save the filename as **[your_student_ID]_inclass.ipynb** for the work that you finished in the class\n",
        "*   Save the filename as **[your_student_ID]_outclass.ipynb** for the work that you finished after the class\n",
        "*   Upload your code files to MS Team assignments. The submission later than the ‘due date’ will get 50% off your score. You cannot submit your work to the system at the close date.\n",
        ">*   **Be careful**: The uploaded time will be checked. If you replace the inclass file on the later upload, you score will be graded by the uploaded time.\n",
        "\n"
      ]
    },
    {
      "cell_type": "markdown",
      "metadata": {
        "id": "cR72xug2-3yT"
      },
      "source": [
        "# **Section1 - Story to Propositional sentences**"
      ]
    },
    {
      "cell_type": "markdown",
      "metadata": {
        "id": "uLYhWAZ94n0k"
      },
      "source": [
        "![image.png](data:image/png;base64,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)"
      ]
    },
    {
      "cell_type": "markdown",
      "metadata": {
        "id": "LL8NqaXdDu9W"
      },
      "source": [
        "***QUESTION 1 [5points]***\n",
        "\n",
        "Transform the following story into propositional logic sentences e.g. using operators of And, Or, Not, Imply, Bidirection.\n",
        "\n",
        "\n",
        "1. If it didn’t rain, Marry visited Hag today.\n",
        "2. Marry visited Hag or Mumble today, but not both.\n",
        "3. Marry visited Mumble today.\n",
        "\n"
      ]
    },
    {
      "cell_type": "markdown",
      "metadata": {
        "id": "xcFwZAZEzWRh"
      },
      "source": [
        "[ANSWER-3points] write the given story to propositional logic sentences here:\n",
        "\n",
        "\n",
        "\n",
        "1.  Sentence 1: \n",
        "\n",
        "\n",
        "2.  Sentence 2: \n",
        "\n",
        "\n",
        "3.  Sentence 3: \n",
        "\n",
        "\n",
        "\n",
        "\n",
        "How many propositions are there in your sentences?\n",
        "\n",
        "ANSWER[1point]:\n",
        "\n",
        "List the propositions that you defined above:\n",
        "\n",
        "ANSWER[1point]: \n",
        "\n",
        "These sentences are TRUE for using as a KNOWLEDGE BASE later."
      ]
    },
    {
      "cell_type": "markdown",
      "metadata": {
        "id": "SGfRgC0l0Xz0"
      },
      "source": [
        "***QUESTION 2[2points]***\n",
        "\n",
        "Create a truth table of EVERY propositions that you defined in QUESTION 1 \n",
        "\n",
        "You can create the truth table using the Microsoft Excel, use your proposition names as headers. Then, fill the truth into the table .\n",
        "\n",
        "Once finish, copy table from excel to paste in the ANSWER below.\n",
        "\n",
        "The example of truth table for 2 propositions:\n",
        "\n",
        " ![image.png](data:image/png;base64,iVBORw0KGgoAAAANSUhEUgAAASsAAABlCAYAAAAVgcUcAAAFPUlEQVR4nO3cMXLiSBTG8a+3fBRI7D1BcwIzyURONxOhnWw24RxAhJBt6miTESfAJ1A5GHGX3gAwAgzIrOTuJ/9/VVSNkVpo+okP0+DnyrIMAoDE3UjS3d1d7PNAjXNOIfAaEgvznx7nnP6IfRIA0ARhBcAEwgqACYQVABMIKwAm9D6sFhMnN5pqtfl5NR3JTRZn92nDajqSc06jaZtHtStGHbY12N4OHg7G3MQ+ga7dz4IufQjdZJ/mFpq4scq8UO7Hem7tuLZ9eh1WU/31/KAqLDXQOriG44m+h5nu23oMfK6yLMPHVCH3PuRVETIpSAqSD3m13V6ETD7kebbZloXibdx2//r9TY55aXwIVe5r23Zji0xBWfHOeAW/2Wm3T5PHWm/LinPnutvPH2+4SFKDvahDszq8nVjw57bXNJt/fCZJ4cqw2r8w1hfo9kLaXjzHF1b9Qtwfc+mYF8ZXefAHT5qtwydAlfuDJ8ThPh8/1+Mn2W6/bsOKOlyuw9vBj4L1FMIqPZLC1WtWWbHU42D978HjD2Uq9XtV3177dXv1S88vmYrZ7hfw98ecOGaj8XP928aaxBXnev89k8rfra55NUUdmtRhpenPuXz+N28BDWtxgf1Fr9WJTdWrXo7uHOrWnxlTP+al8YNHLatc5dj9/0Xtq881FdTh0GIy1JNy/bNNNZjUYlh53Q5PbBreyh/dWen15cyY+jGbjB88ahmCQij059Pw+k9+rj7XVFCHusXEaVzmqpaPIqpsuzqs5uORti+cq+lPzf2Dvp26Ggbf9ODnGteu3PfGnDxmw/FrQ90eX+X7zr1l+9BjxUcdTllpOvpqQbX+P2+/ElL/Ksj6axwTmf72xrUL7PufwtQXLtf3H69z1vdXkM9D1fiYF8YX2e5+7S+yHi26VnnwFz+FanKu9d2z2j4HYw8eqwl9YIGdOtR3r9Xh8FzeOadTms1/ivY/lCiy3Zztfzhhj6TgyrIMH2sRs9J0NNTrj6BZa6uVXRzTrmYtSqhDV2gRkx5axAAwg7ACYMIVbwPRNd6GxMX8p8c5t/7bQOdc7HPBAWoSF/OfnhtJvIokhlf2uJj/9LDADsAMwgqACYQVABMIKwAmEFYATDAeVgtNaj2292/G/2jTFOqA7hkPq3vNQlAIQaHK5eWVV5uf6bX9iagDumc8rAB8FYQVABMIKwAmEFYATCCsAJhAWAEwgbACYALN9xJEi5K4mP/00CIGgBmEFQATCCsAJtCDPVHUJC7mPz30YE8QC7xxMf/pYYEdgBmEFQATCCsAJhBWAEwgrACYYDys6P2dksXkuA4TioCWGA8ren+nxufVZv7XtxlFQEuMhxWAr4KwAmACYYVWvTwNWTdEJwgrtGp/zYp1Q7SHsAJgAmEFwATCCoAJ9GBPEC1K4mL+00OLGABmEFYATCCsAJhAD/ZEUZO4mP/00IM9QSzwxsX8p4cFdgBmEFYATCCsAJhAWAEwgbACYEIvwore37HRCx/d60VYSfT+jote+Oheb8IKQL8RVgBM6E1Y0fsb6LfehBW9v4F+601YAeg3wgqACYQVABPowZ4gWpTExfynhxYxAMwgrACYQFgBMIEe7ImiJnEx/+mhB3uCWOCNi/lPDwvsAMwgrACYQFgBMIGwAmACYQXAhF6EFT3Y00Ad0KVehJVED/ZUUAd0pTdhBaDfCCsAJvQmrOjBngbqgK70JqzowZ4G6oCu9CasAPQbYQXABMIKgAn0YE8QLUriYv7TQ4sYAGYQVgBMIKwAmEAP9kRRk7iY//T8ByuP+CE/4OGYAAAAAElFTkSuQmCC)\n",
        "\n",
        "\n",
        "\n"
      ]
    },
    {
      "cell_type": "markdown",
      "metadata": {
        "id": "-xrKLW072nDd"
      },
      "source": [
        "[ANSWER-2points] Paste your TRUTH TABLE here:\n",
        "\n",
        "\n",
        "\n",
        "\n",
        "\n",
        "\n",
        "\n",
        "\n",
        "\n",
        "\n",
        "\n",
        "\n",
        "\n",
        "\n",
        "\n",
        "\n",
        "\n",
        "\n",
        "\n",
        "\n",
        "\n",
        "\n",
        "\n",
        "\n",
        ".\n"
      ]
    },
    {
      "cell_type": "markdown",
      "metadata": {
        "id": "3Y8-UfEV3IfM"
      },
      "source": [
        "***QUESTION 3[2 points]***\n",
        "\n",
        "Use the TRUTH TABLE created in QUESTION 2, to add sentences created from QUESTION 1 as new columns to find the truth value of each sentence.\n",
        "\n",
        "Example:\n",
        "\n",
        "![image.png](data:image/png;base64,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)\n"
      ]
    },
    {
      "cell_type": "markdown",
      "metadata": {
        "id": "RlVFaFjn7HR2"
      },
      "source": [
        "[ANSWER-2points] Paste your TRUTH TABLE with sentences here:\n",
        "\n",
        "\n",
        "\n",
        "."
      ]
    },
    {
      "cell_type": "markdown",
      "metadata": {
        "id": "rhe87avk7de8"
      },
      "source": [
        "***QUESTION 4[1point]***\n",
        "\n",
        "How many models of propositional are \"*satisfied*\" with all sentences in QUESTION 3?\n",
        "\n",
        "(Note: one row of propositional truth table is represented as 1 knowledge base model e.g. [model-1,a:T,b:T] [model-2, a:T, b:F])\n",
        "\n",
        "[ANSWER4]:\n",
        "\n",
        "How many model?\n",
        "\n",
        "ANSWER:\n",
        "\n",
        "List the proposition values of each models that satisfy all knowledge base sentences e.g. if model-2 satisfies all sentences, the answer is [model-2,a:T,b:F]\n",
        "\n",
        "1.   \n",
        "2.   \n",
        "3.   \n",
        "4.   \n",
        "\n",
        "\n"
      ]
    },
    {
      "cell_type": "markdown",
      "metadata": {
        "id": "HwMLIlri9ZBE"
      },
      "source": [
        "The following code is the implementation of sentences in Python.\n",
        "\n",
        "- First, each proposition is defined as Symbol\n",
        "- Then, logical sentences are created based on the given story\n",
        "- Next, these sentences are created as a KNOWLEDGE BASE\n",
        "\n",
        "HERE: the 'satisfiable' function will identify the list of satisfiable models (the rows of truth table that are possible to use as the answers when the AI agent is asked on a question.\n",
        "```\n",
        "use_models(satisfiable(knowledge_base, all_models=True))\n",
        "```\n",
        "\n",
        "\n",
        "HERE: the 'satisfiable' function is used to ask the question \"If it is raining?\"\n",
        "```\n",
        "use_models(satisfiable(And(knowledge_base,rain), all_models=True))\n",
        "```"
      ]
    },
    {
      "cell_type": "code",
      "execution_count": null,
      "metadata": {
        "colab": {
          "base_uri": "https://localhost:8080/"
        },
        "id": "vTxUCFn_9Fx2",
        "outputId": "cedf4b1d-5891-4238-f8a8-510d987a7972"
      },
      "outputs": [],
      "source": [
        "from sympy.logic import *\n",
        "from sympy import *\n",
        "\n",
        "# First, define propositions\n",
        "rain = Symbol(\"rain\")     # Rain is the symbol for rain\n",
        "\n",
        "hag = Symbol(\"hag\")\n",
        "\n",
        "mumple = Symbol(\"mumple\")\n",
        "\n",
        "# Second, define sentences\n",
        "\n",
        "# we create here a logical sentence using logical connectives\n",
        "logical_sentence = And(rain, hag)\n",
        "print(logical_sentence)\n",
        "\n",
        "\n",
        "# we create a implication logic here\n",
        "implication_logic = Implies(Not(rain), hag)\n",
        "print(implication_logic)\n",
        "\n",
        "\n",
        "#Third, let the knowledge base learn the TRUE sentences\n",
        "#\"We make decision from knowledge base\" ,all of the statement will be true then knowlegde base will be true'''\n",
        "\n",
        "knowledge_base = And(\n",
        "\n",
        "   Implies( Not(rain), hag),\n",
        "\n",
        "   #Or(hag, mumple),\n",
        "\n",
        "   #Not(And(hag, mumple)),\n",
        "\n",
        "   Equivalent(hag,Not(mumple)),\n",
        "\n",
        "   mumple\n",
        "\n",
        ")\n",
        "print(knowledge_base)\n",
        "\n",
        "\n",
        "def use_models(models):\n",
        "    for model in models:\n",
        "        if model:\n",
        "            # Do something with the model.\n",
        "            print(model)\n",
        "        else:\n",
        "            # Given expr is unsatisfiable.\n",
        "            print(\"UNSAT\")\n",
        "\n",
        "# to get models that satistify all sentences in the knowledge base\n",
        "print(\"Satisfiable models:\")\n",
        "use_models(satisfiable(knowledge_base, all_models=True))\n",
        "\n",
        "# to get statisfiable models in the knowledge base and in case that 'rain' should be true.\n",
        "print(\"Satisfiable models with rain:\")\n",
        "use_models(satisfiable(And(knowledge_base,rain), all_models=True))\n"
      ]
    },
    {
      "cell_type": "markdown",
      "metadata": {},
      "source": [
        "***QUESTION 5[10point]***\n",
        "\n",
        "\n",
        "\n",
        "*   Your roommate is wet\n",
        "*   If your roommate is wet, it is because of rain, sprinklers, or both\n",
        "*   If your roommate is wet because of sprinklers, the sprinklers must be on\n",
        "*   If your roommate is wet because of rain, your roommate must not be carrying the umbrella\n",
        "*   The umbrella is not in the umbrella holder\n",
        "*   If the umbrella is not in the umbrella holder, either you must be carrying the umbrella, or your roommate must be carrying the umbrella\n",
        "*   You are not carrying the umbrella\n"
      ]
    },
    {
      "cell_type": "markdown",
      "metadata": {},
      "source": [
        "**TO DO:** Create a knowledge base using the given sentences to implement in Python using sympy.\n",
        "\n",
        "*   [3points] - define proposition to Symbol properly.\n",
        "*   [7points] - transform the given sentences to the Knowledge base correctly.\n",
        "\n",
        "The result of satisfiable model should be as follows:\n",
        "\n",
        "*   Satisfiable models:\n",
        "*   {Umbrella is with roommate: True, Roommate is wet.: True, Sprinkles are on.: True, Umbrella is in the umbrella holder: False, It's rained.: False, Umbrella is with me: False}"
      ]
    },
    {
      "cell_type": "code",
      "execution_count": null,
      "metadata": {},
      "outputs": [],
      "source": [
        "from sympy.logic import *\n",
        "from sympy import *\n",
        "\n",
        "# First, define propositions\n",
        "\n",
        "\n",
        "\n",
        "#Then, let the knowledge base learn the TRUE sentences\n",
        "#\"We make decision from knowledge base\" ,all of the statement will be true then knowlegde base will be true'''\n",
        "\n",
        "knowledge_base = And(\n",
        "\n",
        "\n",
        "\n",
        "\n",
        "\n",
        "\n",
        ")\n",
        "print(knowledge_base)\n",
        "\n",
        "\n"
      ]
    }
  ],
  "metadata": {
    "colab": {
      "provenance": [],
      "toc_visible": true
    },
    "kernelspec": {
      "display_name": "Python 3",
      "name": "python3"
    },
    "language_info": {
      "codemirror_mode": {
        "name": "ipython",
        "version": 3
      },
      "file_extension": ".py",
      "mimetype": "text/x-python",
      "name": "python",
      "nbconvert_exporter": "python",
      "pygments_lexer": "ipython3",
      "version": "3.12.4"
    }
  },
  "nbformat": 4,
  "nbformat_minor": 0
}
