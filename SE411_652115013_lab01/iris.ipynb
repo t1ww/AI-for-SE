import numpy as np
import pandas as pd
import matplotlib.pyplot as plt

data = pd.read_csv("Iris.csv")

# print(data.head(10))

plt.plot(iris.Id, iris["SepalLengthCm"], "r--")
plt.show
