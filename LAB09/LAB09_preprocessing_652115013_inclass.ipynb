{
 "cells": [
  {
   "cell_type": "markdown",
   "metadata": {},
   "source": [
    "# 1. Split features"
   ]
  },
  {
   "cell_type": "code",
   "execution_count": 65,
   "metadata": {},
   "outputs": [
    {
     "name": "stdout",
     "output_type": "stream",
     "text": [
      "0               IPS Panel Retina Display 2560x1600\n",
      "1                                         1440x900\n",
      "2                                Full HD 1920x1080\n",
      "3               IPS Panel Retina Display 2880x1800\n",
      "4               IPS Panel Retina Display 2560x1600\n",
      "                           ...                    \n",
      "1298     IPS Panel Full HD / Touchscreen 1920x1080\n",
      "1299    IPS Panel Quad HD+ / Touchscreen 3200x1800\n",
      "1300                                      1366x768\n",
      "1301                                      1366x768\n",
      "1302                                      1366x768\n",
      "Name: ScreenResolution, Length: 1303, dtype: object\n"
     ]
    }
   ],
   "source": [
    "import numpy as np\n",
    "import pandas as pd\n",
    "import matplotlib.pyplot as plt\n",
    "import statsmodels.api as sm\n",
    "data = pd.read_csv('Lab09_uncleaned_laptopData.csv')\n",
    "print(data.ScreenResolution) "
   ]
  },
  {
   "cell_type": "code",
   "execution_count": 66,
   "metadata": {},
   "outputs": [
    {
     "name": "stdout",
     "output_type": "stream",
     "text": [
      "0        IPS\n",
      "1           \n",
      "2       Full\n",
      "3        IPS\n",
      "4        IPS\n",
      "        ... \n",
      "1298     IPS\n",
      "1299     IPS\n",
      "1300        \n",
      "1301        \n",
      "1302        \n",
      "Name: ScreenResolution, Length: 1303, dtype: object\n",
      "0               Panel Retina Display 2560x1600\n",
      "1                                     1440x900\n",
      "2                                 HD 1920x1080\n",
      "3               Panel Retina Display 2880x1800\n",
      "4               Panel Retina Display 2560x1600\n",
      "                         ...                  \n",
      "1298     Panel Full HD / Touchscreen 1920x1080\n",
      "1299    Panel Quad HD+ / Touchscreen 3200x1800\n",
      "1300                                  1366x768\n",
      "1301                                  1366x768\n",
      "1302                                  1366x768\n",
      "Name: ScreenWH, Length: 1303, dtype: object\n"
     ]
    }
   ],
   "source": [
    "# add a space to ScreenResolution which has no other information\n",
    "# to search from each row of data if ScreenResolution column has a space?\n",
    "for x in data.index:\n",
    "    raw = str(data.loc[x, \"ScreenResolution\"])\n",
    "    if (' ' in raw) == False:\n",
    "        data.loc[x, \"ScreenResolution\"] = \" \" + raw\n",
    "# Fixed data by calling from key\n",
    "# # before -> data.ScreenResolution\n",
    "# # after  -> data['ScreenResolution']\n",
    "data[['ScreenResolution', 'ScreenWH']] = data['ScreenResolution'].str.split(\" \", n=1, expand=True) # fixed this by putting n=1\n",
    "print(data['ScreenResolution'])\n",
    "print(data['ScreenWH'])"
   ]
  },
  {
   "cell_type": "markdown",
   "metadata": {},
   "source": [
    "# 3. Transform categorical\n",
    "\n",
    "Choice 1 : using search in data from the original column and define a new column"
   ]
  },
  {
   "cell_type": "code",
   "execution_count": 67,
   "metadata": {},
   "outputs": [
    {
     "name": "stdout",
     "output_type": "stream",
     "text": [
      "    Unnamed: 0 Company   TypeName Inches ScreenResolution  \\\n",
      "0          0.0   Apple  Ultrabook   13.3              IPS   \n",
      "1          1.0   Apple  Ultrabook   13.3                    \n",
      "2          2.0      HP   Notebook   15.6             Full   \n",
      "3          3.0   Apple  Ultrabook   15.4              IPS   \n",
      "4          4.0   Apple  Ultrabook   13.3              IPS   \n",
      "5          5.0    Acer   Notebook   15.6                    \n",
      "6          6.0   Apple  Ultrabook   15.4              IPS   \n",
      "7          7.0   Apple  Ultrabook   13.3                    \n",
      "8          8.0    Asus  Ultrabook     14             Full   \n",
      "9          9.0    Acer  Ultrabook     14              IPS   \n",
      "10        10.0      HP   Notebook   15.6                    \n",
      "\n",
      "                           Cpu   Ram               Memory  \\\n",
      "0         Intel Core i5 2.3GHz   8GB            128GB SSD   \n",
      "1         Intel Core i5 1.8GHz   8GB  128GB Flash Storage   \n",
      "2   Intel Core i5 7200U 2.5GHz   8GB            256GB SSD   \n",
      "3         Intel Core i7 2.7GHz  16GB            512GB SSD   \n",
      "4         Intel Core i5 3.1GHz   8GB            256GB SSD   \n",
      "5      AMD A9-Series 9420 3GHz   4GB            500GB HDD   \n",
      "6         Intel Core i7 2.2GHz  16GB  256GB Flash Storage   \n",
      "7         Intel Core i5 1.8GHz   8GB  256GB Flash Storage   \n",
      "8   Intel Core i7 8550U 1.8GHz  16GB            512GB SSD   \n",
      "9   Intel Core i5 8250U 1.6GHz   8GB            256GB SSD   \n",
      "10  Intel Core i5 7200U 2.5GHz   4GB            500GB HDD   \n",
      "\n",
      "                             Gpu       OpSys  Weight        Price  \\\n",
      "0   Intel Iris Plus Graphics 640       macOS  1.37kg   71378.6832   \n",
      "1         Intel HD Graphics 6000       macOS  1.34kg   47895.5232   \n",
      "2          Intel HD Graphics 620       No OS  1.86kg   30636.0000   \n",
      "3             AMD Radeon Pro 455       macOS  1.83kg  135195.3360   \n",
      "4   Intel Iris Plus Graphics 650       macOS  1.37kg   96095.8080   \n",
      "5                  AMD Radeon R5  Windows 10   2.1kg   21312.0000   \n",
      "6        Intel Iris Pro Graphics    Mac OS X  2.04kg  114017.6016   \n",
      "7         Intel HD Graphics 6000       macOS  1.34kg   61735.5360   \n",
      "8           Nvidia GeForce MX150  Windows 10   1.3kg   79653.6000   \n",
      "9         Intel UHD Graphics 620  Windows 10   1.6kg   41025.6000   \n",
      "10         Intel HD Graphics 620       No OS  1.86kg   20986.9920   \n",
      "\n",
      "                          ScreenWH  has_ips_panel   has_ips_panel   \n",
      "0   Panel Retina Display 2560x1600            1.0              NaN  \n",
      "1                         1440x900            NaN              0.0  \n",
      "2                     HD 1920x1080            NaN              0.0  \n",
      "3   Panel Retina Display 2880x1800            1.0              NaN  \n",
      "4   Panel Retina Display 2560x1600            1.0              NaN  \n",
      "5                         1366x768            NaN              0.0  \n",
      "6   Panel Retina Display 2880x1800            1.0              NaN  \n",
      "7                         1440x900            NaN              0.0  \n",
      "8                     HD 1920x1080            NaN              0.0  \n",
      "9          Panel Full HD 1920x1080            1.0              NaN  \n",
      "10                        1366x768            NaN              0.0  \n"
     ]
    }
   ],
   "source": [
    "for y in data.index:\n",
    "    raw = str(data.loc[y, \"ScreenResolution\"])\n",
    "    if ('IPS' in raw) == True:\n",
    "        data.loc[y, \"has_ips_panel\"] = 1\n",
    "    else:\n",
    "        data.loc[y, \" has_ips_panel \"] = 0\n",
    "print(data.loc[:10])\n"
   ]
  },
  {
   "cell_type": "markdown",
   "metadata": {},
   "source": [
    "Choice 2 : using pandas"
   ]
  },
  {
   "cell_type": "code",
   "execution_count": 68,
   "metadata": {},
   "outputs": [
    {
     "name": "stdout",
     "output_type": "stream",
     "text": [
      "      Unnamed: 0            TypeName Inches ScreenResolution  \\\n",
      "0            0.0           Ultrabook   13.3              IPS   \n",
      "1            1.0           Ultrabook   13.3                    \n",
      "2            2.0            Notebook   15.6             Full   \n",
      "3            3.0           Ultrabook   15.4              IPS   \n",
      "4            4.0           Ultrabook   13.3              IPS   \n",
      "...          ...                 ...    ...              ...   \n",
      "1298      1298.0  2 in 1 Convertible     14              IPS   \n",
      "1299      1299.0  2 in 1 Convertible   13.3              IPS   \n",
      "1300      1300.0            Notebook     14                    \n",
      "1301      1301.0            Notebook   15.6                    \n",
      "1302      1302.0            Notebook   15.6                    \n",
      "\n",
      "                                       Cpu   Ram               Memory  \\\n",
      "0                     Intel Core i5 2.3GHz   8GB            128GB SSD   \n",
      "1                     Intel Core i5 1.8GHz   8GB  128GB Flash Storage   \n",
      "2               Intel Core i5 7200U 2.5GHz   8GB            256GB SSD   \n",
      "3                     Intel Core i7 2.7GHz  16GB            512GB SSD   \n",
      "4                     Intel Core i5 3.1GHz   8GB            256GB SSD   \n",
      "...                                    ...   ...                  ...   \n",
      "1298            Intel Core i7 6500U 2.5GHz   4GB            128GB SSD   \n",
      "1299            Intel Core i7 6500U 2.5GHz  16GB            512GB SSD   \n",
      "1300  Intel Celeron Dual Core N3050 1.6GHz   2GB   64GB Flash Storage   \n",
      "1301            Intel Core i7 6500U 2.5GHz   6GB              1TB HDD   \n",
      "1302  Intel Celeron Dual Core N3050 1.6GHz   4GB            500GB HDD   \n",
      "\n",
      "                               Gpu       OpSys  Weight  ...  Company_LG  \\\n",
      "0     Intel Iris Plus Graphics 640       macOS  1.37kg  ...       False   \n",
      "1           Intel HD Graphics 6000       macOS  1.34kg  ...       False   \n",
      "2            Intel HD Graphics 620       No OS  1.86kg  ...       False   \n",
      "3               AMD Radeon Pro 455       macOS  1.83kg  ...       False   \n",
      "4     Intel Iris Plus Graphics 650       macOS  1.37kg  ...       False   \n",
      "...                            ...         ...     ...  ...         ...   \n",
      "1298         Intel HD Graphics 520  Windows 10   1.8kg  ...       False   \n",
      "1299         Intel HD Graphics 520  Windows 10   1.3kg  ...       False   \n",
      "1300             Intel HD Graphics  Windows 10   1.5kg  ...       False   \n",
      "1301            AMD Radeon R5 M330  Windows 10  2.19kg  ...       False   \n",
      "1302             Intel HD Graphics  Windows 10   2.2kg  ...       False   \n",
      "\n",
      "     Company_Lenovo  Company_MSI  Company_Mediacom  Company_Microsoft  \\\n",
      "0             False        False             False              False   \n",
      "1             False        False             False              False   \n",
      "2             False        False             False              False   \n",
      "3             False        False             False              False   \n",
      "4             False        False             False              False   \n",
      "...             ...          ...               ...                ...   \n",
      "1298           True        False             False              False   \n",
      "1299           True        False             False              False   \n",
      "1300           True        False             False              False   \n",
      "1301          False        False             False              False   \n",
      "1302          False        False             False              False   \n",
      "\n",
      "      Company_Razer  Company_Samsung  Company_Toshiba  Company_Vero  \\\n",
      "0             False            False            False         False   \n",
      "1             False            False            False         False   \n",
      "2             False            False            False         False   \n",
      "3             False            False            False         False   \n",
      "4             False            False            False         False   \n",
      "...             ...              ...              ...           ...   \n",
      "1298          False            False            False         False   \n",
      "1299          False            False            False         False   \n",
      "1300          False            False            False         False   \n",
      "1301          False            False            False         False   \n",
      "1302          False            False            False         False   \n",
      "\n",
      "      Company_Xiaomi  \n",
      "0              False  \n",
      "1              False  \n",
      "2              False  \n",
      "3              False  \n",
      "4              False  \n",
      "...              ...  \n",
      "1298           False  \n",
      "1299           False  \n",
      "1300           False  \n",
      "1301           False  \n",
      "1302           False  \n",
      "\n",
      "[1303 rows x 33 columns]\n"
     ]
    }
   ],
   "source": [
    "new_df2 = pd.get_dummies(data, columns=['Company'])\n",
    "print(new_df2)"
   ]
  },
  {
   "cell_type": "markdown",
   "metadata": {},
   "source": [
    "TASK 1 (5 points)\n",
    "```\n",
    "• Split ‘ScreenWH’ to\n",
    "    • Column ‘resolution_width’\n",
    "    • Column ‘resolution_height’\n",
    "• Create new columns\n",
    "    • ‘screen_resolution’\n",
    "    • ‘is_touchscreen’\n",
    "```"
   ]
  },
  {
   "cell_type": "code",
   "execution_count": 70,
   "metadata": {},
   "outputs": [
    {
     "ename": "TypeError",
     "evalue": "StringMethods.rsplit() takes from 1 to 2 positional arguments but 3 were given",
     "output_type": "error",
     "traceback": [
      "\u001b[1;31m---------------------------------------------------------------------------\u001b[0m",
      "\u001b[1;31mTypeError\u001b[0m                                 Traceback (most recent call last)",
      "Cell \u001b[1;32mIn[70], line 1\u001b[0m\n\u001b[1;32m----> 1\u001b[0m data[[\u001b[38;5;124m'\u001b[39m\u001b[38;5;124mScreenWH\u001b[39m\u001b[38;5;124m'\u001b[39m, \u001b[38;5;124m'\u001b[39m\u001b[38;5;124m‘resolution_width’\u001b[39m\u001b[38;5;124m'\u001b[39m]] \u001b[38;5;241m=\u001b[39m \u001b[43mdata\u001b[49m\u001b[43m[\u001b[49m\u001b[38;5;124;43m'\u001b[39;49m\u001b[38;5;124;43mScreenWH\u001b[39;49m\u001b[38;5;124;43m'\u001b[39;49m\u001b[43m]\u001b[49m\u001b[38;5;241;43m.\u001b[39;49m\u001b[43mstr\u001b[49m\u001b[38;5;241;43m.\u001b[39;49m\u001b[43mrsplit\u001b[49m\u001b[43m(\u001b[49m\u001b[38;5;124;43m\"\u001b[39;49m\u001b[38;5;124;43mx\u001b[39;49m\u001b[38;5;124;43m\"\u001b[39;49m\u001b[43m,\u001b[49m\u001b[43m \u001b[49m\u001b[38;5;241;43m1\u001b[39;49m\u001b[43m)\u001b[49m\n\u001b[0;32m      2\u001b[0m data[[\u001b[38;5;124m'\u001b[39m\u001b[38;5;124mScreenWH\u001b[39m\u001b[38;5;124m'\u001b[39m, \u001b[38;5;124m'\u001b[39m\u001b[38;5;124m‘resolution_height’\u001b[39m\u001b[38;5;124m'\u001b[39m]] \u001b[38;5;241m=\u001b[39m data[\u001b[38;5;124m'\u001b[39m\u001b[38;5;124mScreenWH\u001b[39m\u001b[38;5;124m'\u001b[39m]\u001b[38;5;241m.\u001b[39mstr\u001b[38;5;241m.\u001b[39mrsplit(\u001b[38;5;124m\"\u001b[39m\u001b[38;5;124mx\u001b[39m\u001b[38;5;124m\"\u001b[39m, \u001b[38;5;241m1\u001b[39m)\n\u001b[0;32m      3\u001b[0m \u001b[38;5;28mprint\u001b[39m(data[\u001b[38;5;124m'\u001b[39m\u001b[38;5;124m‘resolution_width’\u001b[39m\u001b[38;5;124m'\u001b[39m])\n",
      "File \u001b[1;32mc:\\Users\\Admin\\anaconda3\\envs\\se411\\Lib\\site-packages\\pandas\\core\\strings\\accessor.py:137\u001b[0m, in \u001b[0;36mforbid_nonstring_types.<locals>._forbid_nonstring_types.<locals>.wrapper\u001b[1;34m(self, *args, **kwargs)\u001b[0m\n\u001b[0;32m    132\u001b[0m     msg \u001b[38;5;241m=\u001b[39m (\n\u001b[0;32m    133\u001b[0m         \u001b[38;5;124mf\u001b[39m\u001b[38;5;124m\"\u001b[39m\u001b[38;5;124mCannot use .str.\u001b[39m\u001b[38;5;132;01m{\u001b[39;00mfunc_name\u001b[38;5;132;01m}\u001b[39;00m\u001b[38;5;124m with values of \u001b[39m\u001b[38;5;124m\"\u001b[39m\n\u001b[0;32m    134\u001b[0m         \u001b[38;5;124mf\u001b[39m\u001b[38;5;124m\"\u001b[39m\u001b[38;5;124minferred dtype \u001b[39m\u001b[38;5;124m'\u001b[39m\u001b[38;5;132;01m{\u001b[39;00m\u001b[38;5;28mself\u001b[39m\u001b[38;5;241m.\u001b[39m_inferred_dtype\u001b[38;5;132;01m}\u001b[39;00m\u001b[38;5;124m'\u001b[39m\u001b[38;5;124m.\u001b[39m\u001b[38;5;124m\"\u001b[39m\n\u001b[0;32m    135\u001b[0m     )\n\u001b[0;32m    136\u001b[0m     \u001b[38;5;28;01mraise\u001b[39;00m \u001b[38;5;167;01mTypeError\u001b[39;00m(msg)\n\u001b[1;32m--> 137\u001b[0m \u001b[38;5;28;01mreturn\u001b[39;00m \u001b[43mfunc\u001b[49m\u001b[43m(\u001b[49m\u001b[38;5;28;43mself\u001b[39;49m\u001b[43m,\u001b[49m\u001b[43m \u001b[49m\u001b[38;5;241;43m*\u001b[39;49m\u001b[43margs\u001b[49m\u001b[43m,\u001b[49m\u001b[43m \u001b[49m\u001b[38;5;241;43m*\u001b[39;49m\u001b[38;5;241;43m*\u001b[39;49m\u001b[43mkwargs\u001b[49m\u001b[43m)\u001b[49m\n",
      "\u001b[1;31mTypeError\u001b[0m: StringMethods.rsplit() takes from 1 to 2 positional arguments but 3 were given"
     ]
    }
   ],
   "source": [
    "data[['ScreenWH', '‘resolution_width’']] = data['ScreenWH'].str.rsplit(\"x\", n=1)\n",
    "data[['ScreenWH', '‘resolution_height’']] = data['ScreenWH'].str.rsplit(\"x\", n=1)\n",
    "print(data['‘resolution_width’'])\n",
    "print(data['‘resolution_height’'])"
   ]
  }
 ],
 "metadata": {
  "kernelspec": {
   "display_name": "se411",
   "language": "python",
   "name": "python3"
  },
  "language_info": {
   "codemirror_mode": {
    "name": "ipython",
    "version": 3
   },
   "file_extension": ".py",
   "mimetype": "text/x-python",
   "name": "python",
   "nbconvert_exporter": "python",
   "pygments_lexer": "ipython3",
   "version": "3.12.4"
  }
 },
 "nbformat": 4,
 "nbformat_minor": 2
}
